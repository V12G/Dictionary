{
 "cells": [
  {
   "cell_type": "code",
   "execution_count": 1,
   "id": "4be2cafa",
   "metadata": {},
   "outputs": [
    {
     "name": "stdout",
     "output_type": "stream",
     "text": [
      "Enter your name:Vaibhav\n",
      "Enter your age:26\n",
      "Enter your GenderMale\n",
      "{'Name': 'Vaibhav', 'Age': 26, 'Gender': 'Male'}\n"
     ]
    }
   ],
   "source": [
    "'''Write a python program to create and print a dictionary which stores your information.\n",
    "(name, age, gender .....)'''\n",
    "a=input(\"Enter your name:\")\n",
    "b=int(input(\"Enter your age:\"))\n",
    "c=input(\"Enter your Gender\")\n",
    "d={\"Name\":a,\"Age\":b,\"Gender\":c}\n",
    "print(d)"
   ]
  },
  {
   "cell_type": "code",
   "execution_count": 4,
   "id": "bba90726",
   "metadata": {},
   "outputs": [
    {
     "name": "stdout",
     "output_type": "stream",
     "text": [
      "Kavita Madam\n"
     ]
    }
   ],
   "source": [
    "# Write a python program to access the items of a dictionary by referring to its key name.\n",
    "d1={101:\"Vaibhav\",102:\"Kavita Madam\",103:\"Dharmendra chodu\"}\n",
    "print(d1[102])"
   ]
  },
  {
   "cell_type": "code",
   "execution_count": 5,
   "id": "9f979833",
   "metadata": {},
   "outputs": [
    {
     "data": {
      "text/plain": [
       "dict_values(['Vaibhav', 'Kavita Madam', 'Dharmendra chodu'])"
      ]
     },
     "execution_count": 5,
     "metadata": {},
     "output_type": "execute_result"
    }
   ],
   "source": [
    "# Write a python program to get a list of the values from a dictionary.\n",
    "d1={101:\"Vaibhav\",102:\"Kavita Madam\",103:\"Dharmendra chodu\"}\n",
    "d1.values()"
   ]
  },
  {
   "cell_type": "code",
   "execution_count": 10,
   "id": "c670aa58",
   "metadata": {},
   "outputs": [
    {
     "name": "stdout",
     "output_type": "stream",
     "text": [
      "{101: 'Vaibhav', 102: 'Kavita Madam', 103: 'Dharmendra'}\n"
     ]
    }
   ],
   "source": [
    "# Write a python program to change the value of a specific item by referring to its key name.\n",
    "d1={101:\"Vaibhav\",102:\"Kavita Madam\",103:\"Dharmendra chodu\"}\n",
    "d1[103]=\"Dharmendra\"\n",
    "print(d1)"
   ]
  },
  {
   "cell_type": "code",
   "execution_count": 11,
   "id": "914c9c02",
   "metadata": {},
   "outputs": [
    {
     "data": {
      "text/plain": [
       "dict_keys([101, 102, 103])"
      ]
     },
     "execution_count": 11,
     "metadata": {},
     "output_type": "execute_result"
    }
   ],
   "source": [
    "# Write a python program to print all key names in the dictionary, one by one.\n",
    "d1={101:\"Vaibhav\",102:\"Kavita Madam\",103:\"Dharmendra chodu\"}\n",
    "d1.keys()"
   ]
  },
  {
   "cell_type": "code",
   "execution_count": 15,
   "id": "1725247b",
   "metadata": {},
   "outputs": [
    {
     "data": {
      "text/plain": [
       "'Value'"
      ]
     },
     "execution_count": 15,
     "metadata": {},
     "output_type": "execute_result"
    }
   ],
   "source": [
    "# Write a python program to create a dictionary that contains three dictionaries.(nested).\n",
    "d1={'key1':{'key2':{'key3':'Value'}}}\n",
    "d1['key1']['key2']['key3']"
   ]
  },
  {
   "cell_type": "code",
   "execution_count": 18,
   "id": "a70e913e",
   "metadata": {},
   "outputs": [
    {
     "data": {
      "text/plain": [
       "'Value'"
      ]
     },
     "execution_count": 18,
     "metadata": {},
     "output_type": "execute_result"
    }
   ],
   "source": [
    "'''Write a python program to create three dictionaries, then create one dictionary that\n",
    "will contain the other three dictionaries.'''\n",
    "d1={'key1':{'key2':{'key3':{'key4':'Value'}}}}\n",
    "d1['key1']['key2']['key3']['key4']"
   ]
  },
  {
   "cell_type": "code",
   "execution_count": 22,
   "id": "d22f2ad4",
   "metadata": {},
   "outputs": [
    {
     "name": "stdout",
     "output_type": "stream",
     "text": [
      "{1: 'vaibhav', 2: 'giri', 3: 'vikash'}\n"
     ]
    }
   ],
   "source": [
    "'''Write a python program to convert two lists into a dictionary in a way that item from\n",
    "list1 is the key and item from list2 is the value.'''\n",
    "l1=[1,2,3]\n",
    "l2=['vaibhav','giri','vikash']\n",
    "d=dict(zip(l1,l2))\n",
    "print(d)"
   ]
  },
  {
   "cell_type": "code",
   "execution_count": 33,
   "id": "1a3ce584",
   "metadata": {},
   "outputs": [
    {
     "name": "stdout",
     "output_type": "stream",
     "text": [
      "{1: 'value1', 2: 'value2', 3: 'value3', 'vaibhav': 1, 'giri': 2, 'vikash': 3} <class 'dict'>\n"
     ]
    }
   ],
   "source": [
    "# Write a python program to merge two python dictionaries into one dictionary.\n",
    "l1={1:'value1',2:'value2',3:'value3'}\n",
    "l2={'vaibhav':1,'giri':2,'vikash':3}\n",
    "\n",
    "l3=l1.copy()\n",
    "l3.update(l2)\n",
    "print(l3,type(l3))"
   ]
  },
  {
   "cell_type": "code",
   "execution_count": 40,
   "id": "5cdcc545",
   "metadata": {},
   "outputs": [
    {
     "data": {
      "text/plain": [
       "'C'"
      ]
     },
     "execution_count": 40,
     "metadata": {},
     "output_type": "execute_result"
    }
   ],
   "source": [
    "'''Write a python program to get the key of lowest value from the dictionary.\n",
    "sample_dict = {'C': 92,'Java': 66,'Python': 85}'''\n",
    "d1 = {'C': 92,'Java': 66,'Python': 85}\n",
    "min(d1.keys())"
   ]
  },
  {
   "cell_type": "code",
   "execution_count": null,
   "id": "9e26b2df",
   "metadata": {},
   "outputs": [],
   "source": []
  }
 ],
 "metadata": {
  "kernelspec": {
   "display_name": "Python 3 (ipykernel)",
   "language": "python",
   "name": "python3"
  },
  "language_info": {
   "codemirror_mode": {
    "name": "ipython",
    "version": 3
   },
   "file_extension": ".py",
   "mimetype": "text/x-python",
   "name": "python",
   "nbconvert_exporter": "python",
   "pygments_lexer": "ipython3",
   "version": "3.9.7"
  }
 },
 "nbformat": 4,
 "nbformat_minor": 5
}
